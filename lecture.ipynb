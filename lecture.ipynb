{
 "cells": [
  {
   "cell_type": "markdown",
   "id": "e617c4a3",
   "metadata": {
    "slideshow": {
     "slide_type": "slide"
    }
   },
   "source": [
    "<h1 style=\"text-align: center; vertical-align: middle;\">Numerical Methods of Accelerator Physics</h1>\n",
    "<h2 style=\"text-align: center; vertical-align: middle;\">Lecture by Dr. Adrian Oeftiger</h2>\n",
    "\n",
    "<img src=\"./img/etit.png\" style=\"width: 20%; margin: auto;\" />\n",
    "\n",
    "<h3 style=\"text-align: center; vertical-align: middle;\">Part 2: 28.10.2022</h3>"
   ]
  },
  {
   "cell_type": "markdown",
   "id": "0c784c17",
   "metadata": {
    "slideshow": {
     "slide_type": "slide"
    }
   },
   "source": [
    "<h2>Run this notebook online!</h2>\n",
    "\n",
    "Interact and run this jupyter notebook online:\n",
    "\n",
    "<div class=\"alert alert-block alert-info\" style=\"text-align:center;\">\n",
    "1. via the public mybinder.org service: <br />\n",
    "\n",
    "<p style=\"text-align: center; margin-left, margin-right: auto; width: 100%;\">\n",
    "<a href=\"https://mybinder.org/v2/gh/aoeftiger/TUDa-NMAP-02/v1.0\"><img src=\"./img/binder_logo.svg\" /></a>\n",
    "</p>\n",
    "</div>\n",
    "\n",
    "<div class=\"alert alert-block alert-success\" style=\"text-align:center;\">\n",
    "2. on the <a href=\"https://tu-jupyter-i.ca.hrz.tu-darmstadt.de/\">local TU Darmstadt jupyterhub $\\nearrow$</a> (using your TU ID)\n",
    "\n",
    "$\\implies$ make sure you installed all the required python packages (see the [README](./README.md))!\n",
    "</div>\n",
    "\n",
    "Finally, also find this lecture rendered [as HTML slides on github $\\nearrow$](https://aoeftiger.github.io/TUDa-NMAP-02/) along with the [source repository $\\nearrow$](https://github.com/aoeftiger/TUDa-NMAP-02)."
   ]
  },
  {
   "cell_type": "markdown",
   "id": "e3e24dc9",
   "metadata": {
    "slideshow": {
     "slide_type": "slide"
    }
   },
   "source": [
    "<h2>Since last week</h2>\n",
    "\n",
    "- jupyter notebooks on your devices?\n",
    "- experience with running them online in mybinder?\n",
    "- local TU Darmstadt resources: jupyter hub (require TU IDs!)\n",
    "\n",
    "<h3>Announcements</h3>\n",
    "\n",
    "- starting flipped classroom after next week\n",
    "- first video material: lecture part 4, available Monday 7.11.2022"
   ]
  },
  {
   "cell_type": "markdown",
   "id": "5c837eae",
   "metadata": {
    "slideshow": {
     "slide_type": "slide"
    }
   },
   "source": [
    "<h2 style=\"color: #b51f2a\">Refresher!</h2>\n",
    "\n",
    "- accelerators $=$ $1 + \\epsilon$ $=$ single-particle dynamics + perturbative multi-particle dynamics\n",
    "- bending and focusing concept\n",
    "- linacs vs. cyclotrons vs. synchrotrons\n",
    "- synchrotron time scales: transverse oscillations vs. longitudinal oscillations vs. storage time\n",
    "---\n",
    "- phase space\n",
    "- equations of motion and the Hamiltonian\n",
    "- discrete integration\n",
    "- Liouville theorem, symplecticity"
   ]
  },
  {
   "cell_type": "markdown",
   "id": "1908b5bd",
   "metadata": {
    "slideshow": {
     "slide_type": "slide"
    }
   },
   "source": [
    "<h2 style=\"color: #b51f2a\">Today!</h2>\n",
    "\n",
    "1. RMS Emittance and Preservation\n",
    "2. Discrete Frequency Analysis"
   ]
  },
  {
   "cell_type": "markdown",
   "id": "0391c3fc",
   "metadata": {
    "slideshow": {
     "slide_type": "slide"
    }
   },
   "source": [
    "<h2>Maxwell Equations</h2>\n",
    "\n",
    "Beam $=$ ensemble of particles\n",
    "\n",
    "$\\leadsto$ particles subject to electromagnetic fields $\\implies$ 3D Maxwell equations\n",
    "\n",
    "in Cartesian coordinates:\n",
    "\n",
    "$$\\begin{align}\\,\n",
    "    &(1) & \\nabla \\cdot \\mathbf{E} &= \\frac{\\rho}{\\epsilon_0} \\\\\n",
    "    &(2) & \\nabla \\times \\mathbf{E} + \\frac{\\partial\\mathbf{B}}{\\partial t} &= \\mathbf{0} \\\\\n",
    "    &(3) & \\nabla \\cdot \\mathbf{B} &= 0 \\\\\n",
    "    &(4) & \\nabla \\times \\mathbf{B} - \\frac{1}{c^2} \\frac{\\partial\\mathbf{E}}{\\partial t} &=  \\mu_0 \\mathbf{j}\n",
    "\\end{align}$$"
   ]
  },
  {
   "cell_type": "markdown",
   "id": "2370c0e3",
   "metadata": {
    "slideshow": {
     "slide_type": "slide"
    }
   },
   "source": [
    "<h2>Coordinate System in Accelerators</h2>\n",
    "\n",
    "<img src=\"./img/frenet-serret.png\" alt=\"Frenet-Serret coordinate system accelerator\" style=\"float: right; width: 25%;\" />\n",
    "\n",
    "<b>Reference orbit</b>: ideal trajectory through magnets in accelerator\n",
    "\n",
    "<b>Path length</b> $s$: independent time-like parameter following reference particle with momentum $p_0=\\beta\\gamma m_0 c$ in longitudinal direction\n",
    "\n",
    "Particle 3D position in accelerator is measured as <b>3D offset</b> from the reference orbit position at path length $s$:\n",
    "\n",
    "$$(x,y,z)$$\n",
    "\n",
    "$$\\begin{align}\n",
    "    x& \\text{:  horizontal offset [m]} \\\\\n",
    "    y& \\text{:  vertical offset [m]} \\\\\n",
    "    z& \\text{:  longitudinal offset [m]}\n",
    "\\end{align}$$"
   ]
  },
  {
   "cell_type": "markdown",
   "id": "0def4c4b",
   "metadata": {
    "slideshow": {
     "slide_type": "slide"
    }
   },
   "source": [
    "<h2>Conjugate Momenta</h2>\n",
    "\n",
    "Longitudinal momentum in the direction of motion $p_z$.\n",
    "\n",
    "Transverse momenta $P_x, P_y$ are typically expressed as trajectory slopes:\n",
    "$$\\begin{align}\\,\n",
    "    x' &\\doteq \\frac{dx}{ds} = \\frac{P_x}{p_z}  \\\\\n",
    "    y' &\\doteq \\frac{dy}{ds} = \\frac{P_y}{p_z}\n",
    "\\end{align}$$\n",
    "\n",
    "$\\leadsto$ <b>Paraxial approximation</b>: $x'\\ll 1,~ y'\\ll 1,~ p_z\\approx p_0$\n",
    "\n",
    "$\\implies$ measure $p_z$ as momentum offset from $p_0$: $\\delta = \\frac{p_z - p_0}{p_0}$"
   ]
  },
  {
   "cell_type": "markdown",
   "id": "0a3267c9",
   "metadata": {
    "slideshow": {
     "slide_type": "slide"
    }
   },
   "source": [
    "<h2>6D Phase Space</h2>\n",
    "\n",
    "A point particle $\\implies$ occupies a point in 6D phase space:\n",
    "\n",
    "$$\\zeta = \\begin{pmatrix} x \\\\ x' \\\\ y \\\\ y' \\\\ z \\\\ \\delta \\end{pmatrix}$$\n",
    "\n",
    "In typical synchrotron situations: horizontal $(x,x')$ and vertical $(y,y')$ phase space are <b>decoupled</b>!\n",
    "\n",
    "$\\implies$ will study when this approximation applies during derivation of reduced transverse and longitudinal models!"
   ]
  },
  {
   "cell_type": "markdown",
   "id": "ec166e02",
   "metadata": {
    "slideshow": {
     "slide_type": "slide"
    }
   },
   "source": [
    "<img src=\"./img/leir-layout.png\" alt=\"CERN LEIR layout\" style=\"float:right; width:35%;\" />\n",
    "\n",
    "<h2>Analogy of Pendulum with Accelerator</h2>\n",
    "\n",
    "Longitudinal phase focusing with rf cavities:\n",
    "- particles drift over most of the circular accelerator\n",
    "- particles get kicked only in rf cavities <br /> (energy change through standing electromagnetic wave)\n",
    "\n",
    "$\\implies$ closely corresponds to discrete pendulum situation!\n",
    "\n",
    "<div class=\"alert alert-block alert-success\" style=\"text-align:center;\">rf focused beam of particles $\\leftrightarrow$ <b>collection</b> of pendulums </div>\n",
    "\n",
    "\n",
    "<p style=\"clear: both; font-size: 10pt; text-align: right; float: right;\"><a href=\"https://be-dep-op-leir.web.cern.ch/content/leir-machine\">image: LEIR layout, CERN</a></p>"
   ]
  },
  {
   "cell_type": "markdown",
   "id": "7dbf1c2f",
   "metadata": {
    "slideshow": {
     "slide_type": "-"
    }
   },
   "source": [
    "<h2>Let's simulate collection of pendulums</h2>\n",
    "\n",
    "<!--<h2>Longitudinal Equations of Motion</h2>\n",
    "\n",
    "Connection to full rf cavities will be derived later in semester:\n",
    "\n",
    "$$\\begin{align}\\,\n",
    "    z_{k+1/2} &= z - \\frac{C}{2} \\eta \\delta \\\\\n",
    "    \\delta_{k+1} &= \\\n",
    "\\end{align}$$\n",
    "\n",
    "def track(z, dp):\n",
    "    # half drift\n",
    "    z = z - eta * dp * circumference / 2\n",
    "    # rf kick\n",
    "    amplitude = rfb.charge * voltage / (beta * c * rfb.p0)\n",
    "    phi = harmonic * (2 * np.pi * z / circumference) + rfb.phi_offset_list[0]\n",
    "    dp += amplitude * np.sin(phi)\n",
    "    # half drift\n",
    "    z = z - eta * dp * circumference / 2\n",
    "    return z, dp\n",
    "-->"
   ]
  },
  {
   "cell_type": "code",
   "execution_count": null,
   "id": "2f479464",
   "metadata": {
    "slideshow": {
     "slide_type": "slide"
    }
   },
   "outputs": [],
   "source": [
    "from config import (np, plt, hamiltonian, \n",
    "                    plot_hamiltonian, solve_leapfrog, \n",
    "                    get_boundary_ids, set_axes,\n",
    "                    plot_macro_evolution, dt)\n",
    "%matplotlib inline"
   ]
  },
  {
   "cell_type": "markdown",
   "id": "955a8a88",
   "metadata": {},
   "source": [
    "Create distribution of initial conditions $(\\theta_i, p_i)$ for the pendulum (like a beam of $N$ particles):"
   ]
  },
  {
   "cell_type": "code",
   "execution_count": null,
   "id": "f3a20fdf",
   "metadata": {},
   "outputs": [],
   "source": [
    "theta_grid = np.linspace(-0.5 * np.pi, 0.5 * np.pi, 21)\n",
    "p_grid = np.linspace(-0.3, 0.3, 5)\n",
    "\n",
    "thetas, ps = np.meshgrid(theta_grid, p_grid)"
   ]
  },
  {
   "cell_type": "code",
   "execution_count": null,
   "id": "3cea5418",
   "metadata": {},
   "outputs": [],
   "source": [
    "N = len(theta_grid) * len(p_grid)\n",
    "N"
   ]
  },
  {
   "cell_type": "code",
   "execution_count": null,
   "id": "208a5c9c",
   "metadata": {
    "slideshow": {
     "slide_type": "slide"
    }
   },
   "outputs": [],
   "source": [
    "plt.scatter(thetas, ps, c='b', marker='.')\n",
    "\n",
    "plot_hamiltonian()"
   ]
  },
  {
   "cell_type": "markdown",
   "id": "a03f2a56",
   "metadata": {},
   "source": [
    "$\\implies$ rectangular distribution (reminds of a beam pulse injected from a linac)"
   ]
  },
  {
   "cell_type": "markdown",
   "id": "4ca4c896",
   "metadata": {
    "slideshow": {
     "slide_type": "slide"
    }
   },
   "source": [
    "<h2>Beam Emittance</h2>\n",
    "\n",
    "<img src=\"./img/tomo.png\" alt=\"Tomographic reconstruction of longitudinal phase space at CERN PS by Adrian Oeftiger\" style=\"float:right; height: 80%; padding-left:1em;\" />\n",
    "\n",
    "Beam distribution: $10^{11}...10^{13}$ particles\n",
    "\n",
    "<!--$\\implies$ at given time instant particles occupy different states $(\\theta, p)$-->\n",
    "\n",
    "<div class=\"alert alert-block alert-success\" style=\"text-align:center;\">$\\leadsto$ refer to extent of distribution in phase space as <b>emittance</b> <br />$\\epsilon=$ rms of all particle amplitudes!</div>"
   ]
  },
  {
   "cell_type": "markdown",
   "id": "be442293",
   "metadata": {
    "slideshow": {
     "slide_type": "slide"
    }
   },
   "source": [
    "<h2>Moment of a distribution</h2>\n",
    "\n",
    "Measure statistical moments of a distribution of $N$ particles/states in phase space:\n",
    "\n",
    "$$\\langle f(\\zeta) \\rangle \\doteq \\frac{1}{N}\\sum\\limits_i^N f(\\zeta_i)$$\n",
    "\n",
    "where $f$ is a monomial of the phase-space coordinates, e.g.\n",
    "\n",
    "$$\\begin{cases}\n",
    "    \\langle x \\rangle: & \\text{horizontal centroid (centre-of-mass)} \\\\\n",
    "    \\sigma_y = \\sqrt{\\left\\langle \\bigl(y - \\langle y \\rangle \\bigr)^2\\right\\rangle} = \\sqrt{\\langle y^2 \\rangle - \\langle y\\rangle^2}: & \\text{vertical rms beam size}\n",
    "\\end{cases}$$"
   ]
  },
  {
   "cell_type": "markdown",
   "id": "558f6bec",
   "metadata": {},
   "source": [
    "$\\implies$ what is the moment order of $\\langle x\\rangle$ or $\\sigma_y$?"
   ]
  },
  {
   "cell_type": "markdown",
   "id": "c0cb32c6",
   "metadata": {
    "slideshow": {
     "slide_type": "slide"
    }
   },
   "source": [
    "<h2>Statistical RMS Emittance</h2>\n",
    "\n",
    "Measure <b>extent</b> of distribution in phase space via $\\Sigma$-matrix, the covariance matrix of second-order moments, e.g. for horizontal phase space (assume for simplicity $\\langle x\\rangle=\\langle x'\\rangle=0$):\n",
    "\n",
    "$$\\Sigma_x = \\begin{pmatrix}\n",
    "    \\langle x^2\\rangle & \\langle x\\,x'\\rangle \\\\\n",
    "    \\langle x\\,x'\\rangle & \\langle x'{}^2\\rangle \\\\\n",
    "\\end{pmatrix}$$\n",
    "\n",
    "$\\implies$ the <b>rms emittance</b> is given by:\n",
    "\n",
    "<div class=\"alert alert-block alert-success\" style=\"text-align:center;\">$$\\epsilon_x = \\sqrt{\\det \\Sigma_x} = \\sqrt{\\langle x^2\\rangle \\langle x'{}^2\\rangle - \\langle x\\,x'\\rangle^2}$$</div>\n",
    "\n",
    "$\\leadsto$ a value for the \"thermal energy\" of the distribution\n",
    "\n",
    "(for $\\langle x\\rangle,\\langle x'\\rangle\\neq 0$ need to subtract them: $x\\mapsto x-\\langle x\\rangle$ and $x'\\mapsto x'-\\langle x'\\rangle$)"
   ]
  },
  {
   "cell_type": "markdown",
   "id": "d93619a9",
   "metadata": {
    "slideshow": {
     "slide_type": "slide"
    }
   },
   "source": [
    "<h2>Time evolution</h2>\n",
    "\n",
    "Numerical integration of equations of motion for distribution of pendulums, using leapfrog (drift+kick+drift):"
   ]
  },
  {
   "cell_type": "code",
   "execution_count": null,
   "id": "30a62d77",
   "metadata": {},
   "outputs": [],
   "source": [
    "n_steps = 100"
   ]
  },
  {
   "cell_type": "code",
   "execution_count": null,
   "id": "3134cff3",
   "metadata": {
    "slideshow": {
     "slide_type": "-"
    }
   },
   "outputs": [],
   "source": [
    "results_thetas = np.zeros((n_steps, N), dtype=np.float32)\n",
    "results_thetas[0] = thetas.flatten()\n",
    "\n",
    "results_ps = np.zeros((n_steps, N), dtype=np.float32)\n",
    "results_ps[0] = ps.flatten()\n",
    "\n",
    "for k in range(1, n_steps):\n",
    "    results_thetas[k], results_ps[k] = solve_leapfrog(results_thetas[k - 1], results_ps[k - 1])"
   ]
  },
  {
   "cell_type": "markdown",
   "id": "05a98276",
   "metadata": {
    "slideshow": {
     "slide_type": "slide"
    }
   },
   "source": [
    "<h2>Observations of Centroids</h2>\n",
    "\n",
    "Before we look at all \"particles\" (pendulums), check evolution of some distribution moments:"
   ]
  },
  {
   "cell_type": "code",
   "execution_count": null,
   "id": "9af32fd5",
   "metadata": {},
   "outputs": [],
   "source": [
    "centroids_theta = 1/N * np.sum(results_thetas, axis=1)\n",
    "centroids_p = 1/N * np.sum(results_ps, axis=1)"
   ]
  },
  {
   "cell_type": "code",
   "execution_count": null,
   "id": "3038e521",
   "metadata": {},
   "outputs": [],
   "source": [
    "plt.plot(centroids_theta, label=r'$\\langle\\theta\\rangle$')\n",
    "plt.plot(centroids_p, label=r'$\\langle p\\rangle$')\n",
    "\n",
    "plt.xlabel('Steps $k$')\n",
    "plt.ylabel('Centroid amplitude')\n",
    "plt.legend(bbox_to_anchor=(1.05, 1));"
   ]
  },
  {
   "cell_type": "markdown",
   "id": "b48f375c",
   "metadata": {},
   "source": [
    "$\\implies$ can you explain this?"
   ]
  },
  {
   "cell_type": "markdown",
   "id": "f0dfb6b5",
   "metadata": {
    "slideshow": {
     "slide_type": "slide"
    }
   },
   "source": [
    "<h2>Observations of RMS Sizes</h2>\n",
    "\n",
    "Before we look at all \"particles\" (pendulums), check evolution of some distribution moments:"
   ]
  },
  {
   "cell_type": "code",
   "execution_count": null,
   "id": "53cf6117",
   "metadata": {},
   "outputs": [],
   "source": [
    "var_theta = 1/N * np.sum(results_thetas * results_thetas, axis=1)\n",
    "var_p = 1/N * np.sum(results_ps * results_ps, axis=1)"
   ]
  },
  {
   "cell_type": "code",
   "execution_count": null,
   "id": "5e9e099c",
   "metadata": {},
   "outputs": [],
   "source": [
    "plt.plot(var_theta, label=r'$\\langle\\theta^2\\rangle$')\n",
    "plt.plot(var_p, label=r'$\\langle p^2\\rangle$')\n",
    "\n",
    "plt.xlabel('Steps $k$')\n",
    "plt.ylabel('Variance')\n",
    "plt.legend(bbox_to_anchor=(1.05, 1));"
   ]
  },
  {
   "cell_type": "markdown",
   "id": "9178159f",
   "metadata": {},
   "source": [
    "$\\implies$ can you explain this?"
   ]
  },
  {
   "cell_type": "markdown",
   "id": "18989f12",
   "metadata": {
    "slideshow": {
     "slide_type": "slide"
    }
   },
   "source": [
    "<h2>Mismatch of Distributions</h2>\n",
    "\n",
    "Non-linearity of the pendulum equation: decreased oscillation frequency at larger amplitudes!\n",
    "    \n",
    "A) matched distribution:\n",
    "\n",
    "<img src=\"./img/simtomo0.png\" alt=\"simulated longitudinal phase space for matched beam\" style=\"width:30%; margin: auto;\" />\n",
    "\n",
    "B) mismatched distribution:\n",
    "\n",
    "<div style=\"margin:auto; width: 70%;\">\n",
    "<img src=\"./img/simtomo1.png\" alt=\"simulated longitudinal phase space for mismatched beam before filamentation\" style=\"width:43%; float:left; margin-top: 0;\" />\n",
    "    <div style=\"float:left; width:14%; text-align: center; vertical-align: middle; margin-top: 3em;\">$\\implies$</div>\n",
    "<img src=\"./img/simtomo2.png\" alt=\"simulated longitudinal phase space for mismatched beam during filamentation\" style=\"width:43%; float:left; margin-top: 0;\" />\n",
    "</div>"
   ]
  },
  {
   "cell_type": "markdown",
   "id": "c500e425",
   "metadata": {
    "slideshow": {
     "slide_type": "slide"
    }
   },
   "source": [
    "<h2>Filamentation</h2>\n",
    "\n",
    "- Liouville theorem (incompressible phase-space fluid) still valid, local density conserved\n",
    "- occupied global phase-space area by beam seemingly enlarged\n",
    "- reason: <b>filamentation</b> due to non-linearity: <br />\n",
    "    $\\implies$ non-linear potential $\\longrightarrow$ oscillation frequency depends on amplitude $\\implies$ anharmonicity\n",
    "- consequence: rms emittance increases (in previous example: $\\Delta\\epsilon/\\epsilon=30\\%$)"
   ]
  },
  {
   "cell_type": "markdown",
   "id": "512044d3",
   "metadata": {
    "slideshow": {
     "slide_type": "slide"
    }
   },
   "source": [
    "<h2>Back to our pendulum simulation:</h2>\n",
    "\n",
    "Observe distribution evolution over the $k$ steps:"
   ]
  },
  {
   "cell_type": "code",
   "execution_count": null,
   "id": "3eb8ae6a",
   "metadata": {},
   "outputs": [],
   "source": [
    "k = 99\n",
    "\n",
    "plt.scatter(results_thetas[k], results_ps[k], c='b', marker='.')\n",
    "\n",
    "plot_hamiltonian()"
   ]
  },
  {
   "cell_type": "markdown",
   "id": "ff7131ed",
   "metadata": {
    "slideshow": {
     "slide_type": "slide"
    }
   },
   "source": [
    "<h2>RMS Emittance Evolution</h2>\n",
    "\n",
    "Let us compute the rms emittance for the pendulums (having subtracted the centroids),\n",
    "\n",
    "$$\\epsilon = \\sqrt{\\langle \\theta^2\\rangle \\langle p^2\\rangle - \\langle \\theta\\,p\\rangle^2}$$"
   ]
  },
  {
   "cell_type": "code",
   "execution_count": null,
   "id": "bf7f31ac",
   "metadata": {},
   "outputs": [],
   "source": [
    "def emittance(theta, p):\n",
    "    N = len(theta)\n",
    "    \n",
    "    # subtract centroids\n",
    "    theta = theta - 1/N * np.sum(theta)\n",
    "    p = p - 1/N * np.sum(p)\n",
    "    \n",
    "    # compute Σ matrix entries\n",
    "    theta_sq = 1/N * np.sum(theta * theta)\n",
    "    p_sq = 1/N * np.sum(p * p)\n",
    "    crossterm = 1/N * np.sum(theta * p)\n",
    "    \n",
    "    # determinant of Σ matrix\n",
    "    epsilon = np.sqrt(theta_sq * p_sq - crossterm * crossterm)\n",
    "    return epsilon"
   ]
  },
  {
   "cell_type": "code",
   "execution_count": null,
   "id": "a90d9152",
   "metadata": {
    "slideshow": {
     "slide_type": "slide"
    }
   },
   "outputs": [],
   "source": [
    "results_emit = np.zeros(n_steps, dtype=np.float32)\n",
    "\n",
    "for k in range(n_steps):\n",
    "    results_emit[k] = emittance(results_thetas[k], results_ps[k])"
   ]
  },
  {
   "cell_type": "code",
   "execution_count": null,
   "id": "0e288360",
   "metadata": {},
   "outputs": [],
   "source": [
    "plt.plot(results_emit)\n",
    "\n",
    "plt.xlabel('Steps $k$')\n",
    "plt.ylabel('RMS emittance $\\epsilon$');"
   ]
  },
  {
   "cell_type": "markdown",
   "id": "40967732",
   "metadata": {},
   "source": [
    "$\\implies$ rms emittance grows, macroscopic increase of \"thermal energy\"!"
   ]
  },
  {
   "cell_type": "markdown",
   "id": "0a846401",
   "metadata": {
    "slideshow": {
     "slide_type": "slide"
    }
   },
   "source": [
    "<h2>Microscopic Level?</h2>\n",
    "\n",
    "What about Liouville theorem? \n",
    "\n",
    "$\\implies$ For the symplectic integrator, still expect (and have) constant phase-space trajectory density!\n",
    "\n",
    "<b>Exercise</b>: integrate around a small area and follow it during the simulation.\n",
    "\n",
    "<!--\n",
    "Let's check...\n",
    "\n",
    "(thetas.min() - thetas.max()) * (ps.min() - ps.max())\n",
    "\n",
    "i_bound = get_boundary_ids(thetas, ps)\n",
    "\n",
    "k = 10\n",
    "\n",
    "print (2 * np.trapz(results_thetas[k, i_bound], results_ps[k, i_bound]))\n",
    "plt.scatter(results_thetas[k, i_bound], results_ps[k, i_bound])\n",
    "\n",
    "set_axes()-->"
   ]
  },
  {
   "cell_type": "markdown",
   "id": "8ee1e4b0",
   "metadata": {
    "slideshow": {
     "slide_type": "slide"
    }
   },
   "source": [
    "<h2>Emittance vs. Linear Dynamics</h2>\n",
    "\n",
    "$\\implies$ What happens with the rms emittance in case of linear dynamics (absence of non-linearities)?\n",
    "\n",
    "<b>Exercise</b>:\n",
    "- Taylor-expand the sine function in the pendulum equations of motion\n",
    "- cut after first order: $\\sin\\theta \\approx \\theta + \\mathcal{O}(\\theta^3)$\n",
    "- re-run the simulation for this linear system (why is this system linear now?)\n",
    "- observe the variances as well as emittance evolution!\n",
    "- can you explain why the emittance behaves this way (in contrast to non-linear model?)"
   ]
  },
  {
   "cell_type": "markdown",
   "id": "3e0f0aa0",
   "metadata": {
    "slideshow": {
     "slide_type": "slide"
    }
   },
   "source": [
    "<h2>Note: Modelling error</h2>\n",
    "\n",
    "Typical example: \n",
    "    \n",
    "$\\implies$ Taylor-expand potential $U\\propto \\sin\\theta$ to a certain finite order\n",
    "\n",
    "$\\implies$ large amplitudes are behaved differently from original pendulum!\n",
    "\n",
    "$\\implies$ error in approximation $=$ <b>modelling error</b>\n",
    "\n",
    "(in contrast to <b>discretisation error</b>, see last lecture)"
   ]
  },
  {
   "cell_type": "markdown",
   "id": "7e2582db",
   "metadata": {
    "slideshow": {
     "slide_type": "slide"
    }
   },
   "source": [
    "<h2>Centroid offset in (Original) Pendulum</h2>\n",
    "\n",
    "Consider again the non-linear pendulum: let us offset the initial centroid $\\langle \\theta\\rangle$!"
   ]
  },
  {
   "cell_type": "code",
   "execution_count": null,
   "id": "97f8e012",
   "metadata": {
    "slideshow": {
     "slide_type": "-"
    }
   },
   "outputs": [],
   "source": [
    "results_thetas2 = np.zeros((n_steps, N), dtype=np.float32)\n",
    "results_thetas2[0] = thetas.flatten() + 0.1 * np.pi\n",
    "\n",
    "results_ps2 = np.zeros((n_steps, N), dtype=np.float32)\n",
    "results_ps2[0] = ps.flatten()\n",
    "\n",
    "for k in range(1, n_steps):\n",
    "    results_thetas2[k], results_ps2[k] = solve_leapfrog(results_thetas2[k - 1], results_ps2[k - 1])"
   ]
  },
  {
   "cell_type": "markdown",
   "id": "0706506c",
   "metadata": {},
   "source": [
    "$\\implies$ will the rms emittance growth be smaller / equal / larger?"
   ]
  },
  {
   "cell_type": "markdown",
   "id": "874bc7e8",
   "metadata": {
    "slideshow": {
     "slide_type": "slide"
    }
   },
   "source": [
    "<h2>Observation of Centroids II</h2>"
   ]
  },
  {
   "cell_type": "code",
   "execution_count": null,
   "id": "27055a86",
   "metadata": {},
   "outputs": [],
   "source": [
    "centroids_theta2 = 1/N * np.sum(results_thetas2, axis=1)\n",
    "centroids_p2 = 1/N * np.sum(results_ps2, axis=1)\n",
    "\n",
    "plt.plot(centroids_theta, label=r'no offset: $\\langle\\theta\\rangle$')\n",
    "plt.plot(centroids_theta2, label=r'with offset: $\\langle\\theta\\rangle$')\n",
    "plt.plot(centroids_p2, label=r'with offset: $\\langle p\\rangle$')\n",
    "\n",
    "plt.xlabel('Steps $k$')\n",
    "plt.ylabel('Centroid amplitude')\n",
    "plt.legend(bbox_to_anchor=(1.05, 1));"
   ]
  },
  {
   "cell_type": "markdown",
   "id": "0313b5b8",
   "metadata": {
    "slideshow": {
     "slide_type": "slide"
    }
   },
   "source": [
    "<h2>RMS Emittance Evolution II</h2>"
   ]
  },
  {
   "cell_type": "code",
   "execution_count": null,
   "id": "7612145f",
   "metadata": {
    "slideshow": {
     "slide_type": "-"
    }
   },
   "outputs": [],
   "source": [
    "results_emit2 = np.zeros(n_steps, dtype=np.float32)\n",
    "\n",
    "for k in range(n_steps):\n",
    "    results_emit2[k] = emittance(results_thetas2[k], results_ps2[k])"
   ]
  },
  {
   "cell_type": "code",
   "execution_count": null,
   "id": "ea3e3444",
   "metadata": {},
   "outputs": [],
   "source": [
    "plt.plot(results_emit, label='no offset')\n",
    "plt.plot(results_emit2, label='with offset')\n",
    "\n",
    "plt.xlabel('Steps $k$')\n",
    "plt.ylabel('RMS emittance $\\epsilon$')\n",
    "plt.legend();"
   ]
  },
  {
   "cell_type": "markdown",
   "id": "37a307a7",
   "metadata": {
    "slideshow": {
     "slide_type": "slide"
    }
   },
   "source": [
    "<h2>Long-term Behaviour</h2>"
   ]
  },
  {
   "cell_type": "code",
   "execution_count": null,
   "id": "a78db223",
   "metadata": {},
   "outputs": [],
   "source": [
    "n_steps = 3000"
   ]
  },
  {
   "cell_type": "code",
   "execution_count": null,
   "id": "5d19f292",
   "metadata": {},
   "outputs": [],
   "source": [
    "results_thetas3 = np.zeros((n_steps, N), dtype=np.float32)\n",
    "results_thetas3[0] = thetas.flatten() + 0.1 * np.pi\n",
    "\n",
    "results_ps3 = np.zeros((n_steps, N), dtype=np.float32)\n",
    "results_ps3[0] = ps.flatten()\n",
    "\n",
    "for k in range(1, n_steps):\n",
    "    results_thetas3[k], results_ps3[k] = solve_leapfrog(results_thetas3[k - 1], results_ps3[k - 1])"
   ]
  },
  {
   "cell_type": "code",
   "execution_count": null,
   "id": "e7d75eb6",
   "metadata": {
    "slideshow": {
     "slide_type": "slide"
    }
   },
   "outputs": [],
   "source": [
    "plot_macro_evolution(results_thetas3, results_ps3);"
   ]
  },
  {
   "cell_type": "markdown",
   "id": "2290e159",
   "metadata": {},
   "source": [
    "$\\implies$ observations:\n",
    "- oscillations of all moments dampen out until residual noise level\n",
    "- emittance growth saturates rather quickly"
   ]
  },
  {
   "cell_type": "markdown",
   "id": "8ca24191",
   "metadata": {
    "slideshow": {
     "slide_type": "slide"
    }
   },
   "source": [
    "<h2>Important Notes on RMS Emittance Evolution</h2>\n",
    "\n",
    "Reminder of Basic Thermodynamic Principle: $\\delta S \\geq 0$\n",
    "    \n",
    "RMS emittance:\n",
    "- constant or grows for conservative forces (closed systems)\n",
    "- in accelerator systems, only ways to reduce / dampen emittance:\n",
    "    - synchrotron radiation\n",
    "    - electron cooling\n",
    "    - stochastic cooling (Nobel prize: van de Meer)"
   ]
  },
  {
   "cell_type": "markdown",
   "id": "752f89ec",
   "metadata": {
    "slideshow": {
     "slide_type": "slide"
    }
   },
   "source": [
    "<h2>Emittance Preservation</h2>\n",
    "\n",
    "<img src=\"./img/cern-complex.png\" alt=\"CERN accelerator complex\" style=\"width: 40%; float:right; margin-left: 1em;\" />\n",
    "\n",
    "$\\implies$ avoid <b>injection mismatch</b> when transferring<br /> beam between accelerators:\n",
    "- centroid mismatch\n",
    "- rms beam size mismatch\n",
    "\n",
    "$\\implies$ avoid resonances / instabilities\n",
    "\n",
    "<div class=\"alert alert-block alert-info\" style=\"text-align:center;\">\n",
    "$\\implies$ preserve (energy-normalised) emittance to obtain small beams for experiments and accelerator aperture constraints! </div>\n",
    "\n",
    "$\\implies$ require <b>accurate numerical simulation models</b> for predictions!\n",
    "\n",
    "\n",
    "<p style=\"clear: both; font-size: 10pt; text-align: right; float: right;\">\n",
    "<a href=\"http://cds.cern.ch/images/CERN-GRAPHICS-2022-001-1\">image: CERN 2022</a></p>"
   ]
  },
  {
   "cell_type": "markdown",
   "id": "4f761d00",
   "metadata": {
    "slideshow": {
     "slide_type": "-"
    }
   },
   "source": [
    "<!--adiabatic invariant\n",
    "\n",
    "only conjugate without acceleration! when accelerating, $\\beta$ and $\\gamma$ change $\\implies$ transform coordinates to adiabatic acceleration frame $\\implies$ normalised emittance-->"
   ]
  },
  {
   "cell_type": "markdown",
   "id": "149deca9",
   "metadata": {
    "slideshow": {
     "slide_type": "slide"
    }
   },
   "source": [
    "<h2>Representation of Particle Beam</h2>\n",
    "\n",
    "<img src=\"./img/chao-representation.png\" alt=\"representation of beams\" style=\"width: 80%; margin: auto; margin-top: 1em;\" />\n",
    "\n",
    "<p style=\"font-size: 10pt; text-align: right;\"><a href=\"https://cas.web.cern.ch/sites/default/files/lectures/thessaloniki-2018/cas2018chao.pdf\">image: Alex Chao 2018 at the CAS</a></p>"
   ]
  },
  {
   "cell_type": "markdown",
   "id": "1fd6a931",
   "metadata": {
    "slideshow": {
     "slide_type": "slide"
    }
   },
   "source": [
    "<h2>Summing Up Concepts</h2>\n",
    "\n",
    "- <b>non-linearities</b> in dynamical system $\\implies$ oscillation frequency depends on amplitude $\\implies$ <b>anharmonicity</b>\n",
    "- microscopic: <b>Liouville</b> (density of phase-space trajectories conserved)\n",
    "- macroscopic: <b>filamentation</b>\n",
    "- <b>rms emittance</b>: macroscopic extent of distribution in phase space\n",
    "- control of simulation errors: discretisation errors, modelling errors, numerical artefacts (see later!)\n",
    "\n",
    "<div class=\"alert alert-block alert-success\" style=\"text-align:center;\">\n",
    "$\\implies$ rms emittance preservation in accelerators $\\longleftrightarrow$ accurate modelling of non-linear accelerator system </div>"
   ]
  },
  {
   "cell_type": "markdown",
   "id": "f5120e24",
   "metadata": {
    "slideshow": {
     "slide_type": "slide"
    }
   },
   "source": [
    "<h2>Continuous Pendulum: Linear Oscillation Frequency</h2>\n",
    "    \n",
    "Reminder:\n",
    "\n",
    "Equation of motion: \n",
    "$$\\frac{d^2\\theta}{dt^2} + \\frac{g}{L}\\sin\\theta = 0$$\n",
    "\n",
    "for $\\sin\\theta\\approx \\theta$: $$\\implies \\frac{d^2\\theta}{dt^2} + \\underbrace{\\frac{g}{L}}\\limits_{\\mathop{=}\\omega^2}\\theta = 0$$\n",
    "\n",
    "During a time step $\\Delta t=0.1$, the phase advance (in units of 2π) gives:"
   ]
  },
  {
   "cell_type": "code",
   "execution_count": null,
   "id": "e2c96cb1",
   "metadata": {},
   "outputs": [],
   "source": [
    "freq_theory = np.sqrt(1 / 1) * 0.1 / (2 * np.pi)\n",
    "freq_theory"
   ]
  },
  {
   "cell_type": "markdown",
   "id": "97a3b20e",
   "metadata": {
    "slideshow": {
     "slide_type": "slide"
    }
   },
   "source": [
    "<h2>Determining Oscillation Frequencies</h2>\n",
    "\n",
    "Can we quantify the change of oscillation frequency towards larger amplitudes?\n",
    "\n",
    "$\\implies$ DFT: Discrete Fourier Transform technique\n",
    "\n",
    "$$f_n = \\sum\\limits_{k=0}^{N_\\mathrm{step}-1} \\theta_{k}\\,e^{-i2\\pi\\frac{n}{N_\\mathrm{step}} k}$$\n",
    "\n",
    "Obtain frequency components $f_n$ from signal $\\theta_k$ recorded over $N_\\mathrm{step}$ steps."
   ]
  },
  {
   "cell_type": "markdown",
   "id": "31075bce",
   "metadata": {
    "slideshow": {
     "slide_type": "slide"
    }
   },
   "source": [
    "<h2>FFT: Efficient Algorithm for $N_{step}=2^\\ell$</h2>\n",
    "\n",
    "Fast Fourier Transform (FFT): among 10 most influential algorithms in 20th century!\n",
    "\n",
    "- continuous splitting of DFT summation: \n",
    "\n",
    "$$ f_n = \\sum\\limits_{p=0}^{\\frac{N_\\mathrm{step}}{2}-1} \\theta_{2p}\\,e^{-i2\\pi\\frac{n}{N_\\mathrm{step}}2p} + e^{-i2\\pi\\frac{n}{N_\\mathrm{step}}} \\sum\\limits_{p=0}^{\\frac{N_\\mathrm{step}}{2}-1} \\theta_{2p+1}\\,e^{-i2\\pi\\frac{n}{N_\\mathrm{step}}2p}$$\n",
    "\n",
    "- exploiting symmetry identify of DFT: $f_{n+jN_mathrm{step}} = f_{n}$ for $j=0,1,2...$\n",
    "- basic DFT: complexity $\\mathcal{O}(N_\\mathrm{step}^2)$\n",
    "- vs. FFT: complexity $\\mathcal{O}(N_\\mathrm{step}\\,\\log_2 N_\\mathrm{step})$\n",
    "\n",
    "$\\implies$ timing comparison DFT vs. FFT for $N_\\mathrm{step}=10^9$ and 1 ns time per compute operation?"
   ]
  },
  {
   "cell_type": "markdown",
   "id": "b7669bb0",
   "metadata": {
    "slideshow": {
     "slide_type": "slide"
    }
   },
   "source": [
    "<h2>Employ FFT on Pendulum Motion</h2>"
   ]
  },
  {
   "cell_type": "markdown",
   "id": "9f107e10",
   "metadata": {},
   "source": [
    "Observe two particles:"
   ]
  },
  {
   "cell_type": "code",
   "execution_count": null,
   "id": "0f651058",
   "metadata": {},
   "outputs": [],
   "source": [
    "i1 = N // 2 - 10\n",
    "i2 = N // 2\n",
    "\n",
    "plt.plot(results_thetas3[:, i1])\n",
    "plt.plot(results_thetas3[:, i2])\n",
    "plt.xlabel('Steps $k$')\n",
    "plt.ylabel(r'$\\theta$');"
   ]
  },
  {
   "cell_type": "markdown",
   "id": "a8e906f6",
   "metadata": {
    "slideshow": {
     "slide_type": "slide"
    }
   },
   "source": [
    "Obtain the FFT spectra for both:"
   ]
  },
  {
   "cell_type": "code",
   "execution_count": null,
   "id": "cd76074b",
   "metadata": {
    "slideshow": {
     "slide_type": "-"
    }
   },
   "outputs": [],
   "source": [
    "spec1 = np.fft.rfft(results_thetas3[:, i1])\n",
    "spec2 = np.fft.rfft(results_thetas3[:, i2])\n",
    "\n",
    "freq = np.fft.rfftfreq(n_steps)"
   ]
  },
  {
   "cell_type": "code",
   "execution_count": null,
   "id": "642038cb",
   "metadata": {},
   "outputs": [],
   "source": [
    "plt.plot(freq, np.abs(spec1))\n",
    "plt.plot(freq, np.abs(spec2))\n",
    "plt.axvline(freq_theory, c='k', zorder=0, ls='--')\n",
    "plt.xlim(0, 0.05)\n",
    "plt.xlabel('Phase advance / integration step $\\Delta t$ [$2\\pi$]')\n",
    "plt.ylabel('FFT spectrum')\n",
    "plt.yscale('log');"
   ]
  },
  {
   "cell_type": "markdown",
   "id": "549fe3af",
   "metadata": {
    "slideshow": {
     "slide_type": "slide"
    }
   },
   "source": [
    "<h2>Frequency vs. Amplitude</h2>\n",
    "\n",
    "Let us plot the maximum frequency vs. initial $\\theta$ (where $p=0$):"
   ]
  },
  {
   "cell_type": "code",
   "execution_count": null,
   "id": "9a6e64ca",
   "metadata": {},
   "outputs": [],
   "source": [
    "specs = np.abs(np.fft.rfft(results_thetas3.T))"
   ]
  },
  {
   "cell_type": "code",
   "execution_count": null,
   "id": "1d3f6de1",
   "metadata": {},
   "outputs": [],
   "source": [
    "max_ids = np.argmax(specs, axis=1)\n",
    "amplitudes = np.max(specs, axis=1)"
   ]
  },
  {
   "cell_type": "code",
   "execution_count": null,
   "id": "fe8d7cc5",
   "metadata": {
    "slideshow": {
     "slide_type": "slide"
    }
   },
   "outputs": [],
   "source": [
    "i_range = np.where(ps.flatten() == 0)[0]\n",
    "\n",
    "plt.scatter(results_thetas3[0][i_range], freq[max_ids][i_range])\n",
    "\n",
    "plt.axhline(freq_theory, c='k', ls='--', zorder=0)\n",
    "plt.xticks([-np.pi/2, 0, np.pi/2, np.pi], [r\"$-\\pi/2$\", \"0\", r\"$\\pi/2$\", r\"$\\pi$\"])\n",
    "plt.xlabel(r'Initial $\\theta$ ($p=0$)')\n",
    "plt.ylabel('Phase advance / \\n' + r'integration step $\\Delta t$ [$2\\pi$]');\n",
    "plt.ylim(0.012, 0.016)"
   ]
  },
  {
   "cell_type": "markdown",
   "id": "3abe3582",
   "metadata": {},
   "source": [
    "$\\implies$ what is responsible for the step behaviour / finite resolution of the vertical values? How would you further increase the resolution in this plot?"
   ]
  },
  {
   "cell_type": "markdown",
   "id": "f68c98f6",
   "metadata": {
    "slideshow": {
     "slide_type": "slide"
    }
   },
   "source": [
    "<h2>The NAFF Algorithm</h2>\n",
    "\n",
    "J. Laskar describes in 1989: \"The Chaotic Motion of the Solar System: A Numerical Estimate of the Size of Chaotic Zones\"\n",
    "\n",
    "NAFF $=$ <b>N</b>umerical <b>A</b>nalysis of <b>F</b>undamental <b>F</b>requencies\n",
    "\n",
    "$\\implies$ <a href=\"https://arxiv.org/pdf/math/0305364.pdf\">quasi-periodic decomposition</a>: <b>iterative</b> fitting of (not necessarily orthogonal) fundamental frequencies for numerical signal over finite time span.\n",
    "\n",
    "In accelerator physics, sometimes find equivalent formulation as <a href=\"http://frs.home.cern.ch/frs/Source/other_tools/sussix/documentation/sussix_manual.pdf\">SUSSIX algorithm</a>.\n",
    "\n",
    "Usage:\n",
    "- celestial mechanics\n",
    "- particle accelerators\n",
    "- atomic physics\n",
    "- general dynamical system issues (Hamiltonian dynamics, chaos)"
   ]
  },
  {
   "cell_type": "markdown",
   "id": "9921442c",
   "metadata": {
    "slideshow": {
     "slide_type": "slide"
    }
   },
   "source": [
    "<h2>Frequency Precision</h2>\n",
    "    \n",
    "Distance between nearest FFT resolved frequencies:\n",
    "\n",
    "$$\\Delta f_\\mathrm{FFT} = \\frac{1}{N_\\mathrm{step}\\Delta t}$$\n",
    "\n",
    "Same for NAFF with $n$ resolved frequencies:\n",
    "\n",
    "$$\\Delta f_\\mathrm{NAFF} = \\mathcal{O}\\left(\\frac{1}{(N_\\mathrm{step}\\Delta t)^\\color{red}{n}}\\right)$$"
   ]
  },
  {
   "cell_type": "code",
   "execution_count": null,
   "id": "45de9154",
   "metadata": {
    "slideshow": {
     "slide_type": "slide"
    }
   },
   "outputs": [],
   "source": [
    "import PyNAFF"
   ]
  },
  {
   "cell_type": "code",
   "execution_count": null,
   "id": "04628016",
   "metadata": {},
   "outputs": [],
   "source": [
    "freqs_naff = []\n",
    "\n",
    "for signal in results_thetas3.T[i_range]:\n",
    "    freq_naff = PyNAFF.naff(signal, turns=n_steps - 1, nterms=1)\n",
    "    try:\n",
    "        freq_naff = freq_naff[0, 1]\n",
    "    except IndexError:\n",
    "        freq_naff = 0\n",
    "    freqs_naff += [freq_naff]\n",
    "\n",
    "freqs_naff = np.array(freqs_naff)"
   ]
  },
  {
   "cell_type": "code",
   "execution_count": null,
   "id": "3a672e08",
   "metadata": {
    "slideshow": {
     "slide_type": "slide"
    }
   },
   "outputs": [],
   "source": [
    "plt.scatter(results_thetas3[0][i_range], freq[max_ids][i_range])\n",
    "plt.plot(results_thetas3[0][i_range], freqs_naff, c='r', marker='.')\n",
    "\n",
    "plt.axhline(freq_theory, c='k', ls='--', zorder=0)\n",
    "plt.xticks([-np.pi/2, 0, np.pi/2, np.pi], [r\"$-\\pi/2$\", \"0\", r\"$\\pi/2$\", r\"$\\pi$\"])\n",
    "plt.xlabel(r'Initial $\\theta$ ($p=0$)')\n",
    "plt.ylabel('Phase advance / \\n' + r'integration step $\\Delta t$ [$2\\pi$]');"
   ]
  },
  {
   "cell_type": "code",
   "execution_count": null,
   "id": "b152df36",
   "metadata": {
    "slideshow": {
     "slide_type": "slide"
    }
   },
   "outputs": [],
   "source": [
    "plt.plot(results_thetas3[0][i_range], 100 * (freq[max_ids][i_range] - freqs_naff) / freqs_naff)\n",
    "plt.xlabel(r'Initial $\\theta$ ($p=0$)')\n",
    "plt.ylabel('Error (FFT - NAFF) / NAFF ' + r'[%]');"
   ]
  },
  {
   "cell_type": "markdown",
   "id": "8458040b",
   "metadata": {
    "slideshow": {
     "slide_type": "slide"
    }
   },
   "source": [
    "<h2>Summary</h2>\n",
    "\n",
    "- statistical moments\n",
    "- rms emittance\n",
    "- filamentation: microscopic level Liouville vs. macroscopic emittance growth\n",
    "- emittance preservation and injection mismatch\n",
    "- modelling error (in addition to discretisation error last lecture)\n",
    "- discrete frequency analysis: FFT and NAFF\n",
    "\n",
    "<!--\n",
    "- error accumulation:\n",
    "    - discretisation schemes (e.g. non-symplecticity)\n",
    "    - numerical artefacts: rounding and truncation\n",
    "    - modelling\n",
    "- accuracy requirements\n",
    "-->"
   ]
  }
 ],
 "metadata": {
  "celltoolbar": "Slideshow",
  "kernelspec": {
   "display_name": "Python 3",
   "language": "python",
   "name": "python3"
  },
  "language_info": {
   "codemirror_mode": {
    "name": "ipython",
    "version": 3
   },
   "file_extension": ".py",
   "mimetype": "text/x-python",
   "name": "python",
   "nbconvert_exporter": "python",
   "pygments_lexer": "ipython3",
   "version": "3.7.3"
  },
  "rise": {
   "enable_chalkboard": false,
   "footer": "<p>Fachbereich Elektrotechnik und Informationstechnik (etit)   |   Institut für Teilchenbeschleunigung und Elektromagnetische Felder (TEMF)   |   Dr. Adrian Oeftiger</p>",
   "header": "<img src='https://upload.wikimedia.org/wikipedia/de/thumb/2/24/TU_Darmstadt_Logo.svg/640px-TU_Darmstadt_Logo.svg.png' />",
   "scroll": true,
   "theme": "simple",
   "transition": "none"
  }
 },
 "nbformat": 4,
 "nbformat_minor": 5
}
